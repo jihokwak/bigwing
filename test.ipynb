{
 "cells": [
  {
   "cell_type": "code",
   "execution_count": 1,
   "metadata": {},
   "outputs": [
    {
     "name": "stdout",
     "output_type": "stream",
     "text": [
      "(1, 1999) 페이지 브라우저를 오픈했습니다.\n",
      "(2000, 3999) 페이지 브라우저를 오픈했습니다.\n",
      "(4000, 5999) 페이지 브라우저를 오픈했습니다.\n",
      "(6000, 7999) 페이지 브라우저를 오픈했습니다.\n",
      "(8000, 9999) 페이지 브라우저를 오픈했습니다.\n"
     ]
    }
   ],
   "source": [
    "from bigwing.crawler import EPLCrawler\n",
    "epl = EPLCrawler(page_range=(1,9999), page_type=\"Matchs\", n_jobs=5)"
   ]
  },
  {
   "cell_type": "code",
   "execution_count": 2,
   "metadata": {},
   "outputs": [
    {
     "name": "stdout",
     "output_type": "stream",
     "text": [
      "5 개 프로세스로 작동합니다.\n",
      "4000번 스크랩성공.\n",
      "8000번 스크랩성공.\n",
      "2000번 스크랩성공.\n",
      "6000번 스크랩성공.\n",
      "1번 스크랩성공.\n"
     ]
    }
   ],
   "source": [
    "epl.start()"
   ]
  },
  {
   "cell_type": "code",
   "execution_count": null,
   "metadata": {},
   "outputs": [
    {
     "name": "stdout",
     "output_type": "stream",
     "text": [
      "*************************************************************************************************************************\n",
      "*             (1, 1999) 스크랩프로세스 - 상태:   7.0% 141번 스크랩중, 총   1999건, 성공    140건, 실패      0건       *\n",
      "*         (2000, 3999) 스크랩프로세스 - 상태:   7.0% 2141번 스크랩중, 총   2000건, 성공    141건, 실패      0건       *\n",
      "*         (4000, 5999) 스크랩프로세스 - 상태:   7.2% 4145번 스크랩중, 총   2000건, 성공    145건, 실패      0건       *\n",
      "*         (6000, 7999) 스크랩프로세스 - 상태:   6.7% 6133번 스크랩중, 총   2000건, 성공    129건, 실패      4건       *\n",
      "*         (8000, 9999) 스크랩프로세스 - 상태:   6.9% 8137번 스크랩중, 총   2000건, 성공    137건, 실패      0건       *\n",
      "*************************************************************************************************************************\n"
     ]
    }
   ],
   "source": [
    "epl.monitor()"
   ]
  },
  {
   "cell_type": "code",
   "execution_count": null,
   "metadata": {},
   "outputs": [],
   "source": [
    "epl.save()"
   ]
  },
  {
   "cell_type": "code",
   "execution_count": null,
   "metadata": {},
   "outputs": [],
   "source": [
    "epl.backup()"
   ]
  },
  {
   "cell_type": "code",
   "execution_count": null,
   "metadata": {},
   "outputs": [],
   "source": [
    "lineup = epl.takeout()"
   ]
  }
 ],
 "metadata": {
  "kernelspec": {
   "display_name": "Python 3",
   "language": "python",
   "name": "python3"
  },
  "language_info": {
   "codemirror_mode": {
    "name": "ipython",
    "version": 3
   },
   "file_extension": ".py",
   "mimetype": "text/x-python",
   "name": "python",
   "nbconvert_exporter": "python",
   "pygments_lexer": "ipython3",
   "version": "3.6.7"
  }
 },
 "nbformat": 4,
 "nbformat_minor": 2
}
