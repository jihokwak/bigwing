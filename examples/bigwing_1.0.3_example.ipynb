{
 "cells": [
  {
   "cell_type": "code",
   "execution_count": 4,
   "metadata": {},
   "outputs": [],
   "source": [
    "#판다스 모듈 Import\n",
    "import pandas as pd"
   ]
  },
  {
   "cell_type": "code",
   "execution_count": 1,
   "metadata": {},
   "outputs": [],
   "source": [
    "#구글지오코더 모듈 Import\n",
    "from bigwing.api import Google_Geocoder"
   ]
  },
  {
   "cell_type": "code",
   "execution_count": 2,
   "metadata": {},
   "outputs": [],
   "source": [
    "#구글 인증키 변수저장\n",
    "key = \"************개인별 인증키사용**************\""
   ]
  },
  {
   "cell_type": "code",
   "execution_count": 3,
   "metadata": {},
   "outputs": [
    {
     "name": "stdout",
     "output_type": "stream",
     "text": [
      "KEY OK : 인증키 유효성 확인 성공!\n"
     ]
    }
   ],
   "source": [
    "#인증키로 객체초기화\n",
    "geo = Google_Geocoder(key)"
   ]
  },
  {
   "cell_type": "code",
   "execution_count": 20,
   "metadata": {},
   "outputs": [
    {
     "data": {
      "text/html": [
       "<div>\n",
       "<style scoped>\n",
       "    .dataframe tbody tr th:only-of-type {\n",
       "        vertical-align: middle;\n",
       "    }\n",
       "\n",
       "    .dataframe tbody tr th {\n",
       "        vertical-align: top;\n",
       "    }\n",
       "\n",
       "    .dataframe thead th {\n",
       "        text-align: right;\n",
       "    }\n",
       "</style>\n",
       "<table border=\"1\" class=\"dataframe\">\n",
       "  <thead>\n",
       "    <tr style=\"text-align: right;\">\n",
       "      <th></th>\n",
       "      <th>매장명</th>\n",
       "      <th>매장주소</th>\n",
       "    </tr>\n",
       "  </thead>\n",
       "  <tbody>\n",
       "    <tr>\n",
       "      <th>0</th>\n",
       "      <td>논현역사거리</td>\n",
       "      <td>서울특별시 강남구 강남대로 538 (논현동)</td>\n",
       "    </tr>\n",
       "    <tr>\n",
       "      <th>1</th>\n",
       "      <td>삼성역섬유센터R</td>\n",
       "      <td>서울특별시 강남구 테헤란로 518 (대치동)</td>\n",
       "    </tr>\n",
       "    <tr>\n",
       "      <th>2</th>\n",
       "      <td>압구정R</td>\n",
       "      <td>서울특별시 강남구 언주로 861 (신사동)</td>\n",
       "    </tr>\n",
       "    <tr>\n",
       "      <th>3</th>\n",
       "      <td>수서역R</td>\n",
       "      <td>서울특별시 강남구 광평로 281 (수서동)</td>\n",
       "    </tr>\n",
       "    <tr>\n",
       "      <th>4</th>\n",
       "      <td>양재강남빌딩R</td>\n",
       "      <td>서울특별시 강남구 남부순환로 2621 (도곡동)</td>\n",
       "    </tr>\n",
       "  </tbody>\n",
       "</table>\n",
       "</div>"
      ],
      "text/plain": [
       "          매장명                        매장주소\n",
       "0    논현역사거리      서울특별시 강남구 강남대로 538 (논현동)\n",
       "1  삼성역섬유센터R      서울특별시 강남구 테헤란로 518 (대치동)\n",
       "2      압구정R       서울특별시 강남구 언주로 861 (신사동)\n",
       "3      수서역R       서울특별시 강남구 광평로 281 (수서동)\n",
       "4   양재강남빌딩R    서울특별시 강남구 남부순환로 2621 (도곡동)"
      ]
     },
     "execution_count": 20,
     "metadata": {},
     "output_type": "execute_result"
    }
   ],
   "source": [
    "#테스트 데이터 로드\n",
    "starbucks = pd.read_csv('data/starbucks.csv', encoding='utf-8')\n",
    "starbucks.head()"
   ]
  },
  {
   "cell_type": "code",
   "execution_count": 13,
   "metadata": {},
   "outputs": [
    {
     "name": "stdout",
     "output_type": "stream",
     "text": [
      "SUCCEEDED : 데이터를 삽입했습니다.\n"
     ]
    },
    {
     "data": {
      "text/plain": [
       "<bigwing.api.Google_Geocoder at 0x16952c1ca20>"
      ]
     },
     "execution_count": 13,
     "metadata": {},
     "output_type": "execute_result"
    }
   ],
   "source": [
    "#대상데이터 객체삽입\n",
    "geo.insert(data=starbucks, col=\"매장주소\")"
   ]
  },
  {
   "cell_type": "code",
   "execution_count": 14,
   "metadata": {},
   "outputs": [
    {
     "name": "stdout",
     "output_type": "stream",
     "text": [
      "처리완료!\n",
      "추가정상처리건수 :  483\n",
      "- 처리 건수 :  483\n",
      "- 성공 건수 :  483\n",
      "- 실패 건수 :  0\n",
      "- 성공율 : 100.0%\n"
     ]
    }
   ],
   "source": [
    "#지오코딩 실행\n",
    "geo.run()"
   ]
  },
  {
   "cell_type": "code",
   "execution_count": 15,
   "metadata": {},
   "outputs": [],
   "source": [
    "#지오코딩 결과를 변수로 반출\n",
    "starbucks = geo.takeout()"
   ]
  },
  {
   "cell_type": "code",
   "execution_count": 17,
   "metadata": {},
   "outputs": [
    {
     "data": {
      "text/html": [
       "<div>\n",
       "<style scoped>\n",
       "    .dataframe tbody tr th:only-of-type {\n",
       "        vertical-align: middle;\n",
       "    }\n",
       "\n",
       "    .dataframe tbody tr th {\n",
       "        vertical-align: top;\n",
       "    }\n",
       "\n",
       "    .dataframe thead th {\n",
       "        text-align: right;\n",
       "    }\n",
       "</style>\n",
       "<table border=\"1\" class=\"dataframe\">\n",
       "  <thead>\n",
       "    <tr style=\"text-align: right;\">\n",
       "      <th></th>\n",
       "      <th>매장명</th>\n",
       "      <th>매장주소</th>\n",
       "      <th>lat</th>\n",
       "      <th>lng</th>\n",
       "      <th>처리상태</th>\n",
       "    </tr>\n",
       "  </thead>\n",
       "  <tbody>\n",
       "    <tr>\n",
       "      <th>0</th>\n",
       "      <td>논현역사거리</td>\n",
       "      <td>서울특별시 강남구 강남대로 538 (논현동)</td>\n",
       "      <td>37.513530</td>\n",
       "      <td>127.031534</td>\n",
       "      <td>OK</td>\n",
       "    </tr>\n",
       "    <tr>\n",
       "      <th>1</th>\n",
       "      <td>삼성역섬유센터R</td>\n",
       "      <td>서울특별시 강남구 테헤란로 518 (대치동)</td>\n",
       "      <td>37.507551</td>\n",
       "      <td>127.060561</td>\n",
       "      <td>OK</td>\n",
       "    </tr>\n",
       "    <tr>\n",
       "      <th>2</th>\n",
       "      <td>압구정R</td>\n",
       "      <td>서울특별시 강남구 언주로 861 (신사동)</td>\n",
       "      <td>37.527152</td>\n",
       "      <td>127.033049</td>\n",
       "      <td>OK</td>\n",
       "    </tr>\n",
       "    <tr>\n",
       "      <th>3</th>\n",
       "      <td>수서역R</td>\n",
       "      <td>서울특별시 강남구 광평로 281 (수서동)</td>\n",
       "      <td>37.487972</td>\n",
       "      <td>127.102650</td>\n",
       "      <td>OK</td>\n",
       "    </tr>\n",
       "    <tr>\n",
       "      <th>4</th>\n",
       "      <td>양재강남빌딩R</td>\n",
       "      <td>서울특별시 강남구 남부순환로 2621 (도곡동)</td>\n",
       "      <td>37.485265</td>\n",
       "      <td>127.036703</td>\n",
       "      <td>OK</td>\n",
       "    </tr>\n",
       "  </tbody>\n",
       "</table>\n",
       "</div>"
      ],
      "text/plain": [
       "          매장명                        매장주소        lat         lng 처리상태\n",
       "0    논현역사거리      서울특별시 강남구 강남대로 538 (논현동)  37.513530  127.031534   OK\n",
       "1  삼성역섬유센터R      서울특별시 강남구 테헤란로 518 (대치동)  37.507551  127.060561   OK\n",
       "2      압구정R       서울특별시 강남구 언주로 861 (신사동)  37.527152  127.033049   OK\n",
       "3      수서역R       서울특별시 강남구 광평로 281 (수서동)  37.487972  127.102650   OK\n",
       "4   양재강남빌딩R    서울특별시 강남구 남부순환로 2621 (도곡동)  37.485265  127.036703   OK"
      ]
     },
     "execution_count": 17,
     "metadata": {},
     "output_type": "execute_result"
    }
   ],
   "source": [
    "#결과 데이터프레임 형태\n",
    "starbucks.head()"
   ]
  },
  {
   "cell_type": "code",
   "execution_count": 16,
   "metadata": {},
   "outputs": [],
   "source": [
    "#파일저장\n",
    "starbucks.to_csv(\"starbucks_geocoded.csv\", index=False)"
   ]
  },
  {
   "cell_type": "code",
   "execution_count": 19,
   "metadata": {},
   "outputs": [],
   "source": [
    "#브이월드지오코더 모듈 Import\n",
    "from bigwing.api import Vwolrd_Geocoder"
   ]
  },
  {
   "cell_type": "code",
   "execution_count": 25,
   "metadata": {},
   "outputs": [
    {
     "name": "stdout",
     "output_type": "stream",
     "text": [
      "KEY OK : 인증키 유효성 확인 성공!\n"
     ]
    }
   ],
   "source": [
    "#인증키로 객체초기화\n",
    "key = \"************개인별 인증키사용**************\"\n",
    "vgeo = Vwolrd_Geocoder(key, crs=\"EPSG:4326\", type_=\"PARCEL\")"
   ]
  },
  {
   "cell_type": "code",
   "execution_count": 20,
   "metadata": {},
   "outputs": [
    {
     "data": {
      "text/html": [
       "<div>\n",
       "<style scoped>\n",
       "    .dataframe tbody tr th:only-of-type {\n",
       "        vertical-align: middle;\n",
       "    }\n",
       "\n",
       "    .dataframe tbody tr th {\n",
       "        vertical-align: top;\n",
       "    }\n",
       "\n",
       "    .dataframe thead th {\n",
       "        text-align: right;\n",
       "    }\n",
       "</style>\n",
       "<table border=\"1\" class=\"dataframe\">\n",
       "  <thead>\n",
       "    <tr style=\"text-align: right;\">\n",
       "      <th></th>\n",
       "      <th>매장명</th>\n",
       "      <th>매장주소</th>\n",
       "    </tr>\n",
       "  </thead>\n",
       "  <tbody>\n",
       "    <tr>\n",
       "      <th>0</th>\n",
       "      <td>논현역사거리</td>\n",
       "      <td>서울특별시 강남구 강남대로 538 (논현동)</td>\n",
       "    </tr>\n",
       "    <tr>\n",
       "      <th>1</th>\n",
       "      <td>삼성역섬유센터R</td>\n",
       "      <td>서울특별시 강남구 테헤란로 518 (대치동)</td>\n",
       "    </tr>\n",
       "    <tr>\n",
       "      <th>2</th>\n",
       "      <td>압구정R</td>\n",
       "      <td>서울특별시 강남구 언주로 861 (신사동)</td>\n",
       "    </tr>\n",
       "    <tr>\n",
       "      <th>3</th>\n",
       "      <td>수서역R</td>\n",
       "      <td>서울특별시 강남구 광평로 281 (수서동)</td>\n",
       "    </tr>\n",
       "    <tr>\n",
       "      <th>4</th>\n",
       "      <td>양재강남빌딩R</td>\n",
       "      <td>서울특별시 강남구 남부순환로 2621 (도곡동)</td>\n",
       "    </tr>\n",
       "  </tbody>\n",
       "</table>\n",
       "</div>"
      ],
      "text/plain": [
       "          매장명                        매장주소\n",
       "0    논현역사거리      서울특별시 강남구 강남대로 538 (논현동)\n",
       "1  삼성역섬유센터R      서울특별시 강남구 테헤란로 518 (대치동)\n",
       "2      압구정R       서울특별시 강남구 언주로 861 (신사동)\n",
       "3      수서역R       서울특별시 강남구 광평로 281 (수서동)\n",
       "4   양재강남빌딩R    서울특별시 강남구 남부순환로 2621 (도곡동)"
      ]
     },
     "execution_count": 20,
     "metadata": {},
     "output_type": "execute_result"
    }
   ],
   "source": [
    "#테스트 데이터 로드\n",
    "starbucks = pd.read_csv('data/starbucks.csv', encoding='utf-8')\n",
    "starbucks.head()"
   ]
  },
  {
   "cell_type": "code",
   "execution_count": 27,
   "metadata": {},
   "outputs": [
    {
     "name": "stdout",
     "output_type": "stream",
     "text": [
      "SUCCEEDED : 데이터를 삽입했습니다.\n"
     ]
    },
    {
     "data": {
      "text/plain": [
       "<bigwing.api.Vwolrd_Geocoder at 0x16939f58780>"
      ]
     },
     "execution_count": 27,
     "metadata": {},
     "output_type": "execute_result"
    }
   ],
   "source": [
    "#데이터 입력\n",
    "vgeo.insert(starbucks, \"매장주소\")"
   ]
  },
  {
   "cell_type": "code",
   "execution_count": 28,
   "metadata": {},
   "outputs": [
    {
     "name": "stdout",
     "output_type": "stream",
     "text": [
      "처리완료!\n",
      "추가정상처리건수 :  481\n",
      "- 처리 건수 :  483\n",
      "- 성공 건수 :  481\n",
      "- 실패 건수 :  2\n",
      "- 성공율 : 99.6%\n"
     ]
    }
   ],
   "source": [
    "#지오코딩 실행\n",
    "vgeo.run()"
   ]
  },
  {
   "cell_type": "code",
   "execution_count": 29,
   "metadata": {},
   "outputs": [
    {
     "name": "stdout",
     "output_type": "stream",
     "text": [
      "- 처리 건수 :  483\n",
      "- 성공 건수 :  481\n",
      "- 실패 건수 :  2\n",
      "- 성공율 : 99.6%\n"
     ]
    }
   ],
   "source": [
    "#지오코딩 결과 요약 출력\n",
    "vgeo.summary()"
   ]
  },
  {
   "cell_type": "code",
   "execution_count": 30,
   "metadata": {},
   "outputs": [],
   "source": [
    "#지오코딩 결과를 변수로 반출\n",
    "starbucks = vgeo.takeout()"
   ]
  },
  {
   "cell_type": "code",
   "execution_count": 31,
   "metadata": {},
   "outputs": [],
   "source": [
    "#주소변환기 모듈 Import\n",
    "from bigwing.api import AddressConverter"
   ]
  },
  {
   "cell_type": "code",
   "execution_count": 32,
   "metadata": {},
   "outputs": [
    {
     "name": "stdout",
     "output_type": "stream",
     "text": [
      "KEY OK : 인증키 유효성 확인 성공!\n"
     ]
    }
   ],
   "source": [
    "#인증키로 객체초기화\n",
    "key = \"************개인별 인증키사용**************\"\n",
    "conv = AddressConverter(key)"
   ]
  },
  {
   "cell_type": "code",
   "execution_count": 34,
   "metadata": {
    "scrolled": true
   },
   "outputs": [
    {
     "data": {
      "text/html": [
       "<div>\n",
       "<style scoped>\n",
       "    .dataframe tbody tr th:only-of-type {\n",
       "        vertical-align: middle;\n",
       "    }\n",
       "\n",
       "    .dataframe tbody tr th {\n",
       "        vertical-align: top;\n",
       "    }\n",
       "\n",
       "    .dataframe thead th {\n",
       "        text-align: right;\n",
       "    }\n",
       "</style>\n",
       "<table border=\"1\" class=\"dataframe\">\n",
       "  <thead>\n",
       "    <tr style=\"text-align: right;\">\n",
       "      <th></th>\n",
       "      <th>매장명</th>\n",
       "      <th>매장주소</th>\n",
       "    </tr>\n",
       "  </thead>\n",
       "  <tbody>\n",
       "    <tr>\n",
       "      <th>0</th>\n",
       "      <td>논현역사거리</td>\n",
       "      <td>서울특별시 강남구 강남대로 538 (논현동)</td>\n",
       "    </tr>\n",
       "    <tr>\n",
       "      <th>1</th>\n",
       "      <td>삼성역섬유센터R</td>\n",
       "      <td>서울특별시 강남구 테헤란로 518 (대치동)</td>\n",
       "    </tr>\n",
       "    <tr>\n",
       "      <th>2</th>\n",
       "      <td>압구정R</td>\n",
       "      <td>서울특별시 강남구 언주로 861 (신사동)</td>\n",
       "    </tr>\n",
       "    <tr>\n",
       "      <th>3</th>\n",
       "      <td>수서역R</td>\n",
       "      <td>서울특별시 강남구 광평로 281 (수서동)</td>\n",
       "    </tr>\n",
       "    <tr>\n",
       "      <th>4</th>\n",
       "      <td>양재강남빌딩R</td>\n",
       "      <td>서울특별시 강남구 남부순환로 2621 (도곡동)</td>\n",
       "    </tr>\n",
       "  </tbody>\n",
       "</table>\n",
       "</div>"
      ],
      "text/plain": [
       "          매장명                        매장주소\n",
       "0    논현역사거리      서울특별시 강남구 강남대로 538 (논현동)\n",
       "1  삼성역섬유센터R      서울특별시 강남구 테헤란로 518 (대치동)\n",
       "2      압구정R       서울특별시 강남구 언주로 861 (신사동)\n",
       "3      수서역R       서울특별시 강남구 광평로 281 (수서동)\n",
       "4   양재강남빌딩R    서울특별시 강남구 남부순환로 2621 (도곡동)"
      ]
     },
     "execution_count": 34,
     "metadata": {},
     "output_type": "execute_result"
    }
   ],
   "source": [
    "#테스트 데이터 로드\n",
    "starbucks = pd.read_csv('data/starbucks.csv', encoding='utf-8')\n",
    "starbucks.head()"
   ]
  },
  {
   "cell_type": "code",
   "execution_count": 35,
   "metadata": {},
   "outputs": [
    {
     "name": "stdout",
     "output_type": "stream",
     "text": [
      "SUCCEEDED : 데이터를 삽입했습니다.\n"
     ]
    },
    {
     "data": {
      "text/plain": [
       "<bigwing.api.AddressConverter at 0x1693a0609b0>"
      ]
     },
     "execution_count": 35,
     "metadata": {},
     "output_type": "execute_result"
    }
   ],
   "source": [
    "#데이터 삽입\n",
    "conv.insert(starbucks, \"매장주소\")"
   ]
  },
  {
   "cell_type": "code",
   "execution_count": 36,
   "metadata": {},
   "outputs": [
    {
     "name": "stdout",
     "output_type": "stream",
     "text": [
      "처리완료!\n",
      "추가정상처리건수 :  346\n",
      "- 처리 건수 :  483\n",
      "- 성공 건수 :  346\n",
      "- 실패 건수 :  137\n",
      "- 성공율 : 71.6%\n"
     ]
    }
   ],
   "source": [
    "#주소변환실행\n",
    "conv.run()"
   ]
  },
  {
   "cell_type": "code",
   "execution_count": 37,
   "metadata": {},
   "outputs": [
    {
     "name": "stdout",
     "output_type": "stream",
     "text": [
      "- 처리 건수 :  483\n",
      "- 성공 건수 :  346\n",
      "- 실패 건수 :  137\n",
      "- 성공율 : 71.6%\n"
     ]
    }
   ],
   "source": [
    "#처리결과요약 출력\n",
    "conv.summary()"
   ]
  },
  {
   "cell_type": "code",
   "execution_count": 38,
   "metadata": {},
   "outputs": [],
   "source": [
    "# 처리결과 변수저장\n",
    "starbucks = conv.takeout()"
   ]
  },
  {
   "cell_type": "code",
   "execution_count": 39,
   "metadata": {},
   "outputs": [
    {
     "data": {
      "text/html": [
       "<div>\n",
       "<style scoped>\n",
       "    .dataframe tbody tr th:only-of-type {\n",
       "        vertical-align: middle;\n",
       "    }\n",
       "\n",
       "    .dataframe tbody tr th {\n",
       "        vertical-align: top;\n",
       "    }\n",
       "\n",
       "    .dataframe thead th {\n",
       "        text-align: right;\n",
       "    }\n",
       "</style>\n",
       "<table border=\"1\" class=\"dataframe\">\n",
       "  <thead>\n",
       "    <tr style=\"text-align: right;\">\n",
       "      <th></th>\n",
       "      <th>매장명</th>\n",
       "      <th>매장주소</th>\n",
       "      <th>detBdNmList</th>\n",
       "      <th>engAddr</th>\n",
       "      <th>rn</th>\n",
       "      <th>emdNm</th>\n",
       "      <th>zipNo</th>\n",
       "      <th>roadAddrPart2</th>\n",
       "      <th>emdNo</th>\n",
       "      <th>sggNm</th>\n",
       "      <th>jibunAddr</th>\n",
       "      <th>siNm</th>\n",
       "      <th>roadAddrPart1</th>\n",
       "      <th>bdNm</th>\n",
       "      <th>admCd</th>\n",
       "      <th>udrtYn</th>\n",
       "      <th>lnbrMnnm</th>\n",
       "      <th>roadAddr</th>\n",
       "      <th>lnbrSlno</th>\n",
       "      <th>buldMnnm</th>\n",
       "      <th>bdKdcd</th>\n",
       "      <th>liNm</th>\n",
       "      <th>rnMgtSn</th>\n",
       "      <th>mtYn</th>\n",
       "      <th>bdMgtSn</th>\n",
       "      <th>buldSlno</th>\n",
       "      <th>처리상태</th>\n",
       "    </tr>\n",
       "  </thead>\n",
       "  <tbody>\n",
       "    <tr>\n",
       "      <th>0</th>\n",
       "      <td>논현역사거리</td>\n",
       "      <td>서울특별시 강남구 강남대로 538 (논현동)</td>\n",
       "      <td></td>\n",
       "      <td>538, Gangnam-daero, Gangnam-gu, Seoul</td>\n",
       "      <td>강남대로</td>\n",
       "      <td>논현동</td>\n",
       "      <td>06110</td>\n",
       "      <td>(논현동)</td>\n",
       "      <td>03</td>\n",
       "      <td>강남구</td>\n",
       "      <td>서울특별시 강남구 논현동 142-2 JS타워</td>\n",
       "      <td>서울특별시</td>\n",
       "      <td>서울특별시 강남구 강남대로 538</td>\n",
       "      <td>JS타워</td>\n",
       "      <td>1168010800</td>\n",
       "      <td>0</td>\n",
       "      <td>142</td>\n",
       "      <td>서울특별시 강남구 강남대로 538 (논현동)</td>\n",
       "      <td>2</td>\n",
       "      <td>538</td>\n",
       "      <td>0</td>\n",
       "      <td></td>\n",
       "      <td>116802102001</td>\n",
       "      <td>0</td>\n",
       "      <td>1168010800101420002008149</td>\n",
       "      <td>0</td>\n",
       "      <td>OK</td>\n",
       "    </tr>\n",
       "    <tr>\n",
       "      <th>1</th>\n",
       "      <td>삼성역섬유센터R</td>\n",
       "      <td>서울특별시 강남구 테헤란로 518 (대치동)</td>\n",
       "      <td></td>\n",
       "      <td>518, Teheran-ro, Gangnam-gu, Seoul</td>\n",
       "      <td>테헤란로</td>\n",
       "      <td>대치동</td>\n",
       "      <td>06180</td>\n",
       "      <td>(대치동)</td>\n",
       "      <td>03</td>\n",
       "      <td>강남구</td>\n",
       "      <td>서울특별시 강남구 대치동 944-31 한국섬유산업연합회</td>\n",
       "      <td>서울특별시</td>\n",
       "      <td>서울특별시 강남구 테헤란로 518</td>\n",
       "      <td>한국섬유산업연합회</td>\n",
       "      <td>1168010600</td>\n",
       "      <td>0</td>\n",
       "      <td>944</td>\n",
       "      <td>서울특별시 강남구 테헤란로 518 (대치동)</td>\n",
       "      <td>31</td>\n",
       "      <td>518</td>\n",
       "      <td>0</td>\n",
       "      <td></td>\n",
       "      <td>116803122010</td>\n",
       "      <td>0</td>\n",
       "      <td>1168010600109440031014503</td>\n",
       "      <td>0</td>\n",
       "      <td>OK</td>\n",
       "    </tr>\n",
       "    <tr>\n",
       "      <th>2</th>\n",
       "      <td>압구정R</td>\n",
       "      <td>서울특별시 강남구 언주로 861 (신사동)</td>\n",
       "      <td></td>\n",
       "      <td>861, Eonju-ro, Gangnam-gu, Seoul</td>\n",
       "      <td>언주로</td>\n",
       "      <td>신사동</td>\n",
       "      <td>06023</td>\n",
       "      <td>(신사동)</td>\n",
       "      <td>03</td>\n",
       "      <td>강남구</td>\n",
       "      <td>서울특별시 강남구 신사동 621-1</td>\n",
       "      <td>서울특별시</td>\n",
       "      <td>서울특별시 강남구 언주로 861</td>\n",
       "      <td></td>\n",
       "      <td>1168010700</td>\n",
       "      <td>0</td>\n",
       "      <td>621</td>\n",
       "      <td>서울특별시 강남구 언주로 861 (신사동)</td>\n",
       "      <td>1</td>\n",
       "      <td>861</td>\n",
       "      <td>0</td>\n",
       "      <td></td>\n",
       "      <td>116803005086</td>\n",
       "      <td>0</td>\n",
       "      <td>1168010700106210001027693</td>\n",
       "      <td>0</td>\n",
       "      <td>OK</td>\n",
       "    </tr>\n",
       "    <tr>\n",
       "      <th>3</th>\n",
       "      <td>수서역R</td>\n",
       "      <td>서울특별시 강남구 광평로 281 (수서동)</td>\n",
       "      <td></td>\n",
       "      <td>281, Gwangpyeong-ro, Gangnam-gu, Seoul</td>\n",
       "      <td>광평로</td>\n",
       "      <td>수서동</td>\n",
       "      <td>06349</td>\n",
       "      <td>(수서동)</td>\n",
       "      <td>02</td>\n",
       "      <td>강남구</td>\n",
       "      <td>서울특별시 강남구 수서동 715 수서빌딩</td>\n",
       "      <td>서울특별시</td>\n",
       "      <td>서울특별시 강남구 광평로 281</td>\n",
       "      <td>수서빌딩</td>\n",
       "      <td>1168011500</td>\n",
       "      <td>0</td>\n",
       "      <td>715</td>\n",
       "      <td>서울특별시 강남구 광평로 281 (수서동)</td>\n",
       "      <td>0</td>\n",
       "      <td>281</td>\n",
       "      <td>0</td>\n",
       "      <td></td>\n",
       "      <td>116803122002</td>\n",
       "      <td>0</td>\n",
       "      <td>1168011500107150000000001</td>\n",
       "      <td>0</td>\n",
       "      <td>OK</td>\n",
       "    </tr>\n",
       "    <tr>\n",
       "      <th>4</th>\n",
       "      <td>양재강남빌딩R</td>\n",
       "      <td>서울특별시 강남구 남부순환로 2621 (도곡동)</td>\n",
       "      <td></td>\n",
       "      <td>2621, Nambusunhwan-ro, Gangnam-gu, Seoul</td>\n",
       "      <td>남부순환로</td>\n",
       "      <td>도곡동</td>\n",
       "      <td>06267</td>\n",
       "      <td>(도곡동)</td>\n",
       "      <td>03</td>\n",
       "      <td>강남구</td>\n",
       "      <td>서울특별시 강남구 도곡동 956 서브원 강남빌딩</td>\n",
       "      <td>서울특별시</td>\n",
       "      <td>서울특별시 강남구 남부순환로 2621</td>\n",
       "      <td>서브원 강남빌딩</td>\n",
       "      <td>1168011800</td>\n",
       "      <td>0</td>\n",
       "      <td>956</td>\n",
       "      <td>서울특별시 강남구 남부순환로 2621 (도곡동)</td>\n",
       "      <td>0</td>\n",
       "      <td>2621</td>\n",
       "      <td>0</td>\n",
       "      <td></td>\n",
       "      <td>116802000003</td>\n",
       "      <td>0</td>\n",
       "      <td>1168011800109560000000001</td>\n",
       "      <td>0</td>\n",
       "      <td>OK</td>\n",
       "    </tr>\n",
       "  </tbody>\n",
       "</table>\n",
       "</div>"
      ],
      "text/plain": [
       "          매장명                        매장주소 detBdNmList ...                     bdMgtSn buldSlno 처리상태\n",
       "0    논현역사거리      서울특별시 강남구 강남대로 538 (논현동)             ...   1168010800101420002008149        0   OK\n",
       "1  삼성역섬유센터R      서울특별시 강남구 테헤란로 518 (대치동)             ...   1168010600109440031014503        0   OK\n",
       "2      압구정R       서울특별시 강남구 언주로 861 (신사동)             ...   1168010700106210001027693        0   OK\n",
       "3      수서역R       서울특별시 강남구 광평로 281 (수서동)             ...   1168011500107150000000001        0   OK\n",
       "4   양재강남빌딩R    서울특별시 강남구 남부순환로 2621 (도곡동)             ...   1168011800109560000000001        0   OK\n",
       "\n",
       "[5 rows x 27 columns]"
      ]
     },
     "execution_count": 39,
     "metadata": {},
     "output_type": "execute_result"
    }
   ],
   "source": [
    "starbucks.head()"
   ]
  },
  {
   "cell_type": "code",
   "execution_count": null,
   "metadata": {},
   "outputs": [],
   "source": []
  }
 ],
 "metadata": {
  "kernelspec": {
   "display_name": "Python 3",
   "language": "python",
   "name": "python3"
  },
  "language_info": {
   "codemirror_mode": {
    "name": "ipython",
    "version": 3
   },
   "file_extension": ".py",
   "mimetype": "text/x-python",
   "name": "python",
   "nbconvert_exporter": "python",
   "pygments_lexer": "ipython3",
   "version": "3.6.7"
  }
 },
 "nbformat": 4,
 "nbformat_minor": 2
}
